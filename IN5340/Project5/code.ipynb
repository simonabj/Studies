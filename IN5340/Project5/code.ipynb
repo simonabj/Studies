{
 "cells": [
  {
   "cell_type": "code",
   "execution_count": 6,
   "metadata": {},
   "outputs": [],
   "source": [
    "using Revise, Statistics, LaTeXStrings, DSP, StatsBase\n",
    "using Formatting\n",
    "using CairoMakie\n",
    "using ColorSchemes\n",
    "import ColorSchemes: nord, tab10, Dark2_8\n",
    "\n",
    "printx(x,N) = sprintf1(\"%10.$(N)f\",x)\n",
    "\n",
    "\n",
    "# fg = :black  # nord[5]\n",
    "# gg = :grey   # nord[3]\n",
    "fg = nord[5]\n",
    "gg = nord[3]\n",
    "bg = :transparent\n",
    "\n",
    "set_theme!(Theme(\n",
    "    fontsize = 20,\n",
    "    palette = ( color = tab10,),\n",
    "    Axis = (\n",
    "        backgroundcolor = bg,\n",
    "        xtickcolor = fg, ytickcolor = fg,\n",
    "        xgridcolor = gg, ygridcolor = gg,\n",
    "        xlabelcolor = fg, ylabelcolor = fg,\n",
    "        xticklabelcolor = fg, yticklabelcolor = fg,\n",
    "        topspinecolor = fg, bottomspinecolor = fg,\n",
    "        leftspinecolor = fg, rightspinecolor = fg,\n",
    "        titlecolor = fg,\n",
    "    ),\n",
    "    Legend = (\n",
    "        bgcolor = bg,\n",
    "        labelcolor = fg, titlecolor = fg,\n",
    "        framevisible = false, margin=(0,0,0,0)\n",
    "    )\n",
    "))"
   ]
  },
  {
   "cell_type": "code",
   "execution_count": 179,
   "metadata": {},
   "outputs": [
    {
     "data": {
      "text/plain": [
       "corrpred (generic function with 1 method)"
      ]
     },
     "execution_count": 179,
     "metadata": {},
     "output_type": "execute_result"
    }
   ],
   "source": [
    "# function covpred(x, p, r)\n",
    "#     N = length(x)\n",
    "#     # Simply write the definition of the autocorrelationfunction\n",
    "#     acf(k) = sum([x[n+1]*x[n-k+1] for n=k:N-1])\n",
    "#     # Use ACF to find the covariance matrix\n",
    "#     R = [ acf(abs(i-j)) for i=0:p, j=0:p ]\n",
    "#     a = R \\ [ x[1]; zeros(p)]\n",
    "#     err = mean((x - filt(1.0, a, [1; zeros(N-1)])).^2)\n",
    "#     return [a, err]\n",
    "# end\n",
    "\n",
    "function covpred(x, p, r)\n",
    "    N = length(x)\n",
    "    X = zeros(N+p, p+1)\n",
    "    for i=1:p+1\n",
    "        X[i:i+N-1,i] = x\n",
    "    end\n",
    "    b = [x[1]; zeros(N+p-1)]\n",
    "    a = X \\ b\n",
    "    err = mean((x - filt(1.0, a, [1; zeros(N-1)])).^2)\n",
    "    return [a, err]\n",
    "end\n",
    "\n",
    "function corrpred(x, p, r)\n",
    "    N = length(x)\n",
    "    X = zeros(N+p, p+1)\n",
    "    p = p-1\n",
    "    for i=1:p+1\n",
    "        X[i:i+N-1,i] = x\n",
    "    end\n",
    "    X = X[p+1:N-1,:] \n",
    "    b = x[p+2:N]\n",
    "    a = [ 1; -X \\ b ]\n",
    "    err = mean((x - filt(1.0, a, [1; zeros(N-1)])).^2)\n",
    "    return [a, err]\n",
    "end"
   ]
  },
  {
   "cell_type": "code",
   "execution_count": 180,
   "metadata": {},
   "outputs": [
    {
     "name": "stdout",
     "output_type": "stream",
     "text": [
      "covpred(x, 2, 0) = Any[[1.0, 0.20000000000000004, 0.3], 4.523690588545417e-35]\n",
      "corrpred(x, 2, 0) = Any[[1.0, 0.19999999999999998, 0.29999999999999993, 0.0], 5.611008013959383e-35]\n"
     ]
    }
   ],
   "source": [
    "x = filt(1.0, [1,0.2,0.3], [1; zeros(100)])\n",
    "@show covpred(x, 2, 0);\n",
    "@show corrpred(x, 2, 0);"
   ]
  },
  {
   "cell_type": "code",
   "execution_count": 192,
   "metadata": {},
   "outputs": [
    {
     "ename": "LoadError",
     "evalue": "error in method definition: function Base.reduce must be explicitly imported to be extended",
     "output_type": "error",
     "traceback": [
      "error in method definition: function Base.reduce must be explicitly imported to be extended",
      "",
      "Stacktrace:",
      " [1] top-level scope",
      "   @ none:0",
      " [2] top-level scope",
      "   @ In[192]:7"
     ]
    }
   ],
   "source": [
    "\n"
   ]
  },
  {
   "cell_type": "code",
   "execution_count": null,
   "metadata": {},
   "outputs": [],
   "source": []
  }
 ],
 "metadata": {
  "kernelspec": {
   "display_name": "Julia Precompiled 1.8.5",
   "language": "julia",
   "name": "julia-precompiled-1.8"
  },
  "language_info": {
   "file_extension": ".jl",
   "mimetype": "application/julia",
   "name": "julia",
   "version": "1.8.5"
  },
  "orig_nbformat": 4
 },
 "nbformat": 4,
 "nbformat_minor": 2
}
