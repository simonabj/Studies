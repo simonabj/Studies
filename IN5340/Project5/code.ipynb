{
 "cells": [
  {
   "cell_type": "code",
   "execution_count": 8,
   "metadata": {},
   "outputs": [],
   "source": [
    "using Revise, Statistics, LaTeXStrings, DSP\n",
    "using Formatting\n",
    "using CairoMakie\n",
    "using ColorSchemes\n",
    "import ColorSchemes: nord, tab10, Dark2_8\n",
    "\n",
    "printx(x,N) = sprintf1(\"%10.$(N)f\",x)\n",
    "\n",
    "\n",
    "# fg = :black  # nord[5]\n",
    "# gg = :grey   # nord[3]\n",
    "fg = nord[5]\n",
    "gg = nord[3]\n",
    "bg = :transparent\n",
    "\n",
    "set_theme!(Theme(\n",
    "    fontsize = 20,\n",
    "    palette = ( color = tab10,),\n",
    "    Axis = (\n",
    "        backgroundcolor = bg,\n",
    "        xtickcolor = fg, ytickcolor = fg,\n",
    "        xgridcolor = gg, ygridcolor = gg,\n",
    "        xlabelcolor = fg, ylabelcolor = fg,\n",
    "        xticklabelcolor = fg, yticklabelcolor = fg,\n",
    "        topspinecolor = fg, bottomspinecolor = fg,\n",
    "        leftspinecolor = fg, rightspinecolor = fg,\n",
    "        titlecolor = fg,\n",
    "    ),\n",
    "    Legend = (\n",
    "        bgcolor = bg,\n",
    "        labelcolor = fg, titlecolor = fg,\n",
    "        framevisible = false, margin=(0,0,0,0)\n",
    "    )\n",
    "))"
   ]
  },
  {
   "cell_type": "code",
   "execution_count": 49,
   "metadata": {},
   "outputs": [
    {
     "data": {
      "text/plain": [
       "covpred (generic function with 1 method)"
      ]
     },
     "metadata": {},
     "output_type": "display_data"
    }
   ],
   "source": [
    "function covpred(x, p, r)\n",
    "    N = length(x)\n",
    "    X = [ x[p+i-j] for i=1:(N-p), j=0:p ]\n",
    "    b = [ x[1]; zeros(p-1)]\n",
    "    a = X \\ b\n",
    "end"
   ]
  },
  {
   "cell_type": "code",
   "execution_count": 50,
   "metadata": {},
   "outputs": [
    {
     "data": {
      "text/plain": [
       "3-element Vector{Float64}:\n",
       " -0.13421828908554578\n",
       " -0.4935103244837756\n",
       "  0.7764011799410034"
      ]
     },
     "metadata": {},
     "output_type": "display_data"
    }
   ],
   "source": [
    "x = filt(1.0, [1,0.2,0.3], [1; zeros(100)])\n",
    "covpred(x, 2, 0)"
   ]
  },
  {
   "cell_type": "code",
   "execution_count": null,
   "metadata": {},
   "outputs": [],
   "source": []
  }
 ],
 "metadata": {
  "kernelspec": {
   "display_name": "Julia 1.8.5",
   "language": "julia",
   "name": "julia-1.8"
  },
  "language_info": {
   "file_extension": ".jl",
   "mimetype": "application/julia",
   "name": "julia",
   "version": "1.8.5"
  },
  "orig_nbformat": 4
 },
 "nbformat": 4,
 "nbformat_minor": 2
}
