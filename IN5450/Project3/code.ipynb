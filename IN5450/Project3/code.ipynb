{
 "cells": [
  {
   "cell_type": "code",
   "execution_count": 6,
   "metadata": {},
   "outputs": [],
   "source": [
    "using Revise, Statistics, LaTeXStrings, DSP, StatsBase\n",
    "using Formatting, MAT, FFTW, Unitful\n",
    "import Unitful: m, s, Hz\n",
    "using CairoMakie, Makie\n",
    "using ColorSchemes\n",
    "import ColorSchemes: nord, tab10, Dark2_8\n",
    "\n",
    "printx(x,N) = sprintf1(\"%.$(N)f\",x)\n",
    "\n",
    "\n",
    "# fg = :black; gg = :grey; cscheme = tab10\n",
    "fg = nord[5]; gg = nord[3]; cscheme = Dark2_8\n",
    "bg = :transparent\n",
    "\n",
    "\n",
    "set_theme!(Theme(\n",
    "    fontsize = 20,\n",
    "    palette = ( color = cscheme,),\n",
    "    markerstrokewidth=0.1,\n",
    "    Axis = (\n",
    "        backgroundcolor = bg,\n",
    "        xtickcolor = fg, ytickcolor = fg,\n",
    "        xgridcolor = gg, ygridcolor = gg,\n",
    "        xlabelcolor = fg, ylabelcolor = fg,\n",
    "        xticklabelcolor = fg, yticklabelcolor = fg,\n",
    "        topspinecolor = fg, bottomspinecolor = fg,\n",
    "        leftspinecolor = fg, rightspinecolor = fg,\n",
    "        titlecolor = fg,\n",
    "    ),\n",
    "    Legend = (\n",
    "        bgcolor = bg,\n",
    "        labelcolor = fg, titlecolor = fg,\n",
    "        framevisible = false, margin=(0,0,0,0)\n",
    "    )\n",
    "))"
   ]
  },
  {
   "cell_type": "code",
   "execution_count": 2,
   "metadata": {},
   "outputs": [
    {
     "data": {
      "text/plain": [
       "Dict{String, Any} with 12 entries:\n",
       "  \"N_rx\"      => 32.0\n",
       "  \"c\"         => 340.0\n",
       "  \"tx_pos\"    => [-0.0085 0.0085]\n",
       "  \"B\"         => 10000.0\n",
       "  \"cdma_data\" => ComplexF64[0.0+0.0im 0.0+0.0im … 0.0+0.0im 0.0+0.0im; 0.0+0.0i…\n",
       "  \"T_p\"       => 0.01\n",
       "  \"fs\"        => 200000.0\n",
       "  \"rx_pos\"    => [-0.527 -0.493 … 0.493 0.527]\n",
       "  \"N_tx\"      => 2.0\n",
       "  \"fc\"        => 10000.0\n",
       "  \"tdma_data\" => [0.0+0.0im 0.0+0.0im … 0.0+0.0im 0.0+0.0im; 0.0+0.0im 0.0+0.0i…\n",
       "  \"N_t\"       => 10000.0"
      ]
     },
     "metadata": {},
     "output_type": "display_data"
    }
   ],
   "source": [
    "matfile = matread(\"mimo_project.mat\")"
   ]
  },
  {
   "cell_type": "code",
   "execution_count": 9,
   "metadata": {},
   "outputs": [],
   "source": [
    "Nᵣₓ = matfile[\"N_rx\"] |> Int\n",
    "Nₜₓ = matfile[\"N_tx\"] |> Int\n",
    "Nₜ  = matfile[\"N_t\"]  |> Int\n",
    "\n",
    "c   = matfile[\"c\"] * m/s\n",
    "B   = matfile[\"B\"] * Hz\n",
    "fs  = matfile[\"fs\"] * Hz\n",
    "fc  = matfile[\"fc\"] * Hz\n",
    "Tₚ  = matfile[\"T_p\"] * s\n",
    "\n",
    "tₓ_pos = matfile[\"tx_pos\"]\n",
    "rₓ_pos = matfile[\"rx_pos\"] \n",
    "\n",
    "tdma_data = matfile[\"tdma_data\"]\n",
    "cdma_data = matfile[\"cdma_data\"];"
   ]
  },
  {
   "cell_type": "code",
   "execution_count": 14,
   "metadata": {},
   "outputs": [],
   "source": [
    "# Create waveforms\n",
    "α = B/Tₚ\n",
    "S_up   = (t -> @. exp(0im*2π*((fc - B/2)*t + α*t^2/2)))(0s:1/fs:Tₚ);\n",
    "S_down = (t -> @. exp(1im*2π*((fc + B/2)*t - α*t^2/2)))(0s:1/fs:Tₚ);"
   ]
  },
  {
   "cell_type": "code",
   "execution_count": 1,
   "metadata": {},
   "outputs": [
    {
     "ename": "UndefVarError",
     "evalue": "UndefVarError: tdma_data not defined",
     "output_type": "error",
     "traceback": [
      "UndefVarError: tdma_data not defined\n",
      "\n",
      "Stacktrace:\n",
      " [1] top-level scope\n",
      "   @ ~/Studies/IN5450/Project3/code.ipynb:3"
     ]
    }
   ],
   "source": [
    "match_filter(x, y) = xcorr(x, y)\n",
    "\n",
    "lines(match_filter(tdma_data[:,16,1], S_up) .|> abs)"
   ]
  },
  {
   "cell_type": "code",
   "execution_count": null,
   "metadata": {},
   "outputs": [],
   "source": []
  }
 ],
 "metadata": {
  "kernelspec": {
   "display_name": "Julia 1.8.5",
   "language": "julia",
   "name": "julia-1.8"
  },
  "language_info": {
   "file_extension": ".jl",
   "mimetype": "application/julia",
   "name": "julia",
   "version": "1.8.5"
  },
  "orig_nbformat": 4
 },
 "nbformat": 4,
 "nbformat_minor": 2
}
